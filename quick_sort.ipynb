{
 "cells": [
  {
   "cell_type": "code",
   "execution_count": 1,
   "metadata": {},
   "outputs": [],
   "source": [
    "def quick_sort(li,left,right):   \n",
    "    if left < right:   #is not 'while' due to only runing once\n",
    "        mid = putmid(li,left,right)\n",
    "        quick_sort(li,left,mid-1)\n",
    "        quick_sort(li,mid+1,right)\n",
    "    return li\n",
    "\n",
    "    "
   ]
  },
  {
   "cell_type": "code",
   "execution_count": 2,
   "metadata": {},
   "outputs": [],
   "source": [
    "def putmid(li,left,right):\n",
    "    tmp=li[left]\n",
    "    while left < right:\n",
    "        while left <right and li[right] >= tmp:\n",
    "            right -=1\n",
    "        li[left]=li[right]\n",
    "        while left < right and li[left] <= tmp:\n",
    "            left +=1\n",
    "        li[right]=li[left]\n",
    "    li[left]=tmp\n",
    "    return left\n",
    "    \n",
    "        "
   ]
  },
  {
   "cell_type": "code",
   "execution_count": 3,
   "metadata": {
    "scrolled": true
   },
   "outputs": [
    {
     "name": "stdout",
     "output_type": "stream",
     "text": [
      "list_old: \n",
      "[25, 0, 19, 47, 24, 6, 10, 38, 39, 41, 35, 27, 14, 29, 13, 44, 11, 36, 33, 17, 12, 23, 45, 42, 2, 4, 15, 48, 46, 9, 40, 37, 22, 20, 8, 34, 7, 5, 30, 32, 16, 1, 49, 18, 21, 43, 26, 28, 3, 31]\n",
      "list_new: \n",
      "[0, 1, 2, 3, 4, 5, 6, 7, 8, 9, 10, 11, 12, 13, 14, 15, 16, 17, 18, 19, 20, 21, 22, 23, 24, 25, 26, 27, 28, 29, 30, 31, 32, 33, 34, 35, 36, 37, 38, 39, 40, 41, 42, 43, 44, 45, 46, 47, 48, 49]\n"
     ]
    }
   ],
   "source": [
    "import random\n",
    "li = list(range(50))\n",
    "random.shuffle(li)\n",
    "#li = [3,4,5,2,1,7,6,9,8]\n",
    "print 'list_old: \\n', li\n",
    "quick_sort(li,0,len(li)-1)\n",
    "print 'list_new: \\n', li"
   ]
  },
  {
   "cell_type": "code",
   "execution_count": null,
   "metadata": {},
   "outputs": [],
   "source": []
  }
 ],
 "metadata": {
  "kernelspec": {
   "display_name": "Python 2",
   "language": "python",
   "name": "python2"
  },
  "language_info": {
   "codemirror_mode": {
    "name": "ipython",
    "version": 2
   },
   "file_extension": ".py",
   "mimetype": "text/x-python",
   "name": "python",
   "nbconvert_exporter": "python",
   "pygments_lexer": "ipython2",
   "version": "2.7.15+"
  }
 },
 "nbformat": 4,
 "nbformat_minor": 2
}
